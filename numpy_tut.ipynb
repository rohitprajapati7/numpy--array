{
  "nbformat": 4,
  "nbformat_minor": 0,
  "metadata": {
    "colab": {
      "name": "numpy_tut.ipynb",
      "provenance": [],
      "authorship_tag": "ABX9TyOn11w4zHpqsu2AB54OVcd2",
      "include_colab_link": true
    },
    "kernelspec": {
      "name": "python3",
      "display_name": "Python 3"
    }
  },
  "cells": [
    {
      "cell_type": "markdown",
      "metadata": {
        "id": "view-in-github",
        "colab_type": "text"
      },
      "source": [
        "<a href=\"https://colab.research.google.com/github/rohitprajapati7/numpy--array/blob/master/numpy_tut.ipynb\" target=\"_parent\"><img src=\"https://colab.research.google.com/assets/colab-badge.svg\" alt=\"Open In Colab\"/></a>"
      ]
    },
    {
      "cell_type": "code",
      "metadata": {
        "id": "KAcDf0PZd_04",
        "colab_type": "code",
        "colab": {
          "base_uri": "https://localhost:8080/",
          "height": 34
        },
        "outputId": "1541477c-4d6e-49f9-c5e4-16bcaa2b2148"
      },
      "source": [
        "import numpy as np\n",
        "a=np.array([1,2,3,4]) #one dim. array\n",
        "print(a)"
      ],
      "execution_count": 2,
      "outputs": [
        {
          "output_type": "stream",
          "text": [
            "[1 2 3 4]\n"
          ],
          "name": "stdout"
        }
      ]
    },
    {
      "cell_type": "code",
      "metadata": {
        "id": "HlgzNkS7eJqQ",
        "colab_type": "code",
        "colab": {
          "base_uri": "https://localhost:8080/",
          "height": 50
        },
        "outputId": "5d43c6da-1e74-4e30-e49a-fa1594bd0eed"
      },
      "source": [
        "a=np.array([[1,2,3,4],[5,6,7,8]]) #two dim. array\n",
        "print(a)"
      ],
      "execution_count": 6,
      "outputs": [
        {
          "output_type": "stream",
          "text": [
            "[[1 2 3 4]\n",
            " [5 6 7 8]]\n"
          ],
          "name": "stdout"
        }
      ]
    },
    {
      "cell_type": "code",
      "metadata": {
        "id": "AMAi0BLteZI5",
        "colab_type": "code",
        "colab": {
          "base_uri": "https://localhost:8080/",
          "height": 67
        },
        "outputId": "ee214939-16ac-48ad-c034-59b39c6bc558"
      },
      "source": [
        "b=np.array([[[1,2,3],[4,5,6],[7,8,9]]])#3dim.\n",
        "print(b)"
      ],
      "execution_count": 60,
      "outputs": [
        {
          "output_type": "stream",
          "text": [
            "[[[1 2 3]\n",
            "  [4 5 6]\n",
            "  [7 8 9]]]\n"
          ],
          "name": "stdout"
        }
      ]
    },
    {
      "cell_type": "code",
      "metadata": {
        "id": "_Oj5Ni8he3Hh",
        "colab_type": "code",
        "colab": {
          "base_uri": "https://localhost:8080/",
          "height": 34
        },
        "outputId": "400433cd-2fa4-47c3-c366-7ac13c6d54cc"
      },
      "source": [
        "#numpy operations\n",
        "a=np.array([(1,2,3),(4,5,6)])\n",
        "print(a.ndim) #ndim=show how many dimesion of array\n"
      ],
      "execution_count": 10,
      "outputs": [
        {
          "output_type": "stream",
          "text": [
            "2\n"
          ],
          "name": "stdout"
        }
      ]
    },
    {
      "cell_type": "code",
      "metadata": {
        "id": "qFIRi7dvgXHf",
        "colab_type": "code",
        "colab": {
          "base_uri": "https://localhost:8080/",
          "height": 34
        },
        "outputId": "9ec67253-2f39-4ab6-8494-c75d41b505d0"
      },
      "source": [
        "print(a.itemsize)"
      ],
      "execution_count": 11,
      "outputs": [
        {
          "output_type": "stream",
          "text": [
            "8\n"
          ],
          "name": "stdout"
        }
      ]
    },
    {
      "cell_type": "code",
      "metadata": {
        "id": "cThzHoh9ge9a",
        "colab_type": "code",
        "colab": {
          "base_uri": "https://localhost:8080/",
          "height": 34
        },
        "outputId": "500d7c35-49c8-4285-f55d-3f4abb27dcd4"
      },
      "source": [
        "print(a.dtype)"
      ],
      "execution_count": 12,
      "outputs": [
        {
          "output_type": "stream",
          "text": [
            "int64\n"
          ],
          "name": "stdout"
        }
      ]
    },
    {
      "cell_type": "code",
      "metadata": {
        "id": "7JvoPmVCgpRx",
        "colab_type": "code",
        "colab": {
          "base_uri": "https://localhost:8080/",
          "height": 34
        },
        "outputId": "9aa6a517-925f-4d31-b9ee-2c68c102970c"
      },
      "source": [
        "print(a.size)"
      ],
      "execution_count": 13,
      "outputs": [
        {
          "output_type": "stream",
          "text": [
            "6\n"
          ],
          "name": "stdout"
        }
      ]
    },
    {
      "cell_type": "code",
      "metadata": {
        "id": "EIFT78bSg4Ht",
        "colab_type": "code",
        "colab": {
          "base_uri": "https://localhost:8080/",
          "height": 34
        },
        "outputId": "4cf7515b-bcb1-4a21-a6de-03993081fd3c"
      },
      "source": [
        "print(a.shape) #give how many row and columns"
      ],
      "execution_count": 14,
      "outputs": [
        {
          "output_type": "stream",
          "text": [
            "(2, 3)\n"
          ],
          "name": "stdout"
        }
      ]
    },
    {
      "cell_type": "code",
      "metadata": {
        "id": "tBtQ-uyig8om",
        "colab_type": "code",
        "colab": {
          "base_uri": "https://localhost:8080/",
          "height": 84
        },
        "outputId": "dcd39b98-94f7-4aec-e837-6f58a9c38b27"
      },
      "source": [
        "print(a.reshape(3,2)) "
      ],
      "execution_count": 17,
      "outputs": [
        {
          "output_type": "stream",
          "text": [
            "[[1 2]\n",
            " [3 4]\n",
            " [5 6]]\n",
            "ERROR! Session/line number was not unique in database. History logging moved to new session 59\n"
          ],
          "name": "stdout"
        }
      ]
    },
    {
      "cell_type": "code",
      "metadata": {
        "id": "pSUuKuNhhMOg",
        "colab_type": "code",
        "colab": {
          "base_uri": "https://localhost:8080/",
          "height": 50
        },
        "outputId": "2c6bf64c-2fe2-41c7-8bcb-a08438c9873f"
      },
      "source": [
        "a=np.array([(1,2,3,4,5),(6,7,8,9,10)])\n",
        "print(a) #here 0th row and 2no. columns then it is print 3"
      ],
      "execution_count": 29,
      "outputs": [
        {
          "output_type": "stream",
          "text": [
            "[[ 1  2  3  4  5]\n",
            " [ 6  7  8  9 10]]\n"
          ],
          "name": "stdout"
        }
      ]
    },
    {
      "cell_type": "code",
      "metadata": {
        "id": "mBf1ipV2htbz",
        "colab_type": "code",
        "colab": {
          "base_uri": "https://localhost:8080/",
          "height": 34
        },
        "outputId": "9f14e230-3b9c-480a-8540-b475b2c8010d"
      },
      "source": [
        "print(a[0:,3]) #[row,colums]"
      ],
      "execution_count": 21,
      "outputs": [
        {
          "output_type": "stream",
          "text": [
            "[4 9]\n"
          ],
          "name": "stdout"
        }
      ]
    },
    {
      "cell_type": "code",
      "metadata": {
        "id": "xjbed531ifub",
        "colab_type": "code",
        "colab": {
          "base_uri": "https://localhost:8080/",
          "height": 67
        },
        "outputId": "de10b269-4f99-44cf-fa76-ff66973aed63"
      },
      "source": [
        "a=np.array([(1,2,3),(4,5,6),(7,8,9)])\n",
        "print(a)\n",
        "#row always call axis-1\n",
        "#columns always call axis-0"
      ],
      "execution_count": 30,
      "outputs": [
        {
          "output_type": "stream",
          "text": [
            "[[1 2 3]\n",
            " [4 5 6]\n",
            " [7 8 9]]\n"
          ],
          "name": "stdout"
        }
      ]
    },
    {
      "cell_type": "code",
      "metadata": {
        "id": "TAiWMg5oi03H",
        "colab_type": "code",
        "colab": {
          "base_uri": "https://localhost:8080/",
          "height": 34
        },
        "outputId": "2517b584-8ee6-451b-cdf7-04ad29f38728"
      },
      "source": [
        "print(a[0:2,1])"
      ],
      "execution_count": 32,
      "outputs": [
        {
          "output_type": "stream",
          "text": [
            "[2 5]\n"
          ],
          "name": "stdout"
        }
      ]
    },
    {
      "cell_type": "code",
      "metadata": {
        "id": "8WMcwYRslHL1",
        "colab_type": "code",
        "colab": {
          "base_uri": "https://localhost:8080/",
          "height": 34
        },
        "outputId": "268d3e27-c816-4a18-d4b9-3d44a608422c"
      },
      "source": [
        "a=np.linspace(1,3,5) #linspace=lastvalue 5 is ahow how many value you want between 1 to 3\n",
        "print(a)"
      ],
      "execution_count": 34,
      "outputs": [
        {
          "output_type": "stream",
          "text": [
            "[1.  1.5 2.  2.5 3. ]\n"
          ],
          "name": "stdout"
        }
      ]
    },
    {
      "cell_type": "code",
      "metadata": {
        "id": "Hwn0gbt6mBI3",
        "colab_type": "code",
        "colab": {
          "base_uri": "https://localhost:8080/",
          "height": 50
        },
        "outputId": "d486443d-c93b-4395-8429-aa7280b6131d"
      },
      "source": [
        "a=np.linspace(1,3,10)#give 10 value between 1to 3\n",
        "print(a)"
      ],
      "execution_count": 35,
      "outputs": [
        {
          "output_type": "stream",
          "text": [
            "[1.         1.22222222 1.44444444 1.66666667 1.88888889 2.11111111\n",
            " 2.33333333 2.55555556 2.77777778 3.        ]\n"
          ],
          "name": "stdout"
        }
      ]
    },
    {
      "cell_type": "code",
      "metadata": {
        "id": "KjOqDF5wmYgl",
        "colab_type": "code",
        "colab": {
          "base_uri": "https://localhost:8080/",
          "height": 67
        },
        "outputId": "2f03e1a6-77a3-4e7a-fff5-e0e5725dfbe1"
      },
      "source": [
        "#min\n",
        "#max\n",
        "#sum\n",
        "\n",
        "a=np.array([1,2,5,7,4])\n",
        "print(a.max())\n",
        "print(a.min())\n",
        "print(a.sum())\n"
      ],
      "execution_count": 38,
      "outputs": [
        {
          "output_type": "stream",
          "text": [
            "7\n",
            "1\n",
            "19\n"
          ],
          "name": "stdout"
        }
      ]
    },
    {
      "cell_type": "code",
      "metadata": {
        "id": "dduTeo0tmtrW",
        "colab_type": "code",
        "colab": {
          "base_uri": "https://localhost:8080/",
          "height": 50
        },
        "outputId": "c49c0197-7899-4f95-a2bf-cde35b27c238"
      },
      "source": [
        "a=np.array([(1,2,5,7,4),(5,7,8,6,8)])\n",
        "print(a)\n",
        "#row always call axis-1\n",
        "#columns always call axis-0"
      ],
      "execution_count": 40,
      "outputs": [
        {
          "output_type": "stream",
          "text": [
            "[[1 2 5 7 4]\n",
            " [5 7 8 6 8]]\n"
          ],
          "name": "stdout"
        }
      ]
    },
    {
      "cell_type": "code",
      "metadata": {
        "id": "wUaiTjUinV58",
        "colab_type": "code",
        "colab": {
          "base_uri": "https://localhost:8080/",
          "height": 34
        },
        "outputId": "d30a57a4-2df2-404f-98cf-55509b70afe9"
      },
      "source": [
        "print(a.sum(axis=1))#row always call axis-1"
      ],
      "execution_count": 41,
      "outputs": [
        {
          "output_type": "stream",
          "text": [
            "[19 34]\n"
          ],
          "name": "stdout"
        }
      ]
    },
    {
      "cell_type": "code",
      "metadata": {
        "id": "GmCPzXUZnnDf",
        "colab_type": "code",
        "colab": {
          "base_uri": "https://localhost:8080/",
          "height": 34
        },
        "outputId": "50a26d4d-55fb-4e57-8c96-02abb4c16c64"
      },
      "source": [
        "#columns always call axis-0\n",
        "print(a.sum(axis=0))"
      ],
      "execution_count": 42,
      "outputs": [
        {
          "output_type": "stream",
          "text": [
            "[ 6  9 13 13 12]\n"
          ],
          "name": "stdout"
        }
      ]
    },
    {
      "cell_type": "code",
      "metadata": {
        "id": "QK2GjtZOnsGT",
        "colab_type": "code",
        "colab": {
          "base_uri": "https://localhost:8080/",
          "height": 50
        },
        "outputId": "c911adad-1739-42f7-cf10-120f8db83b35"
      },
      "source": [
        "#finding the square root and finding the standard deviation\n",
        "a=np.array([(1,2,5,7,4),(5,7,8,6,8)])\n",
        "print(np.sqrt(a))"
      ],
      "execution_count": 43,
      "outputs": [
        {
          "output_type": "stream",
          "text": [
            "[[1.         1.41421356 2.23606798 2.64575131 2.        ]\n",
            " [2.23606798 2.64575131 2.82842712 2.44948974 2.82842712]]\n"
          ],
          "name": "stdout"
        }
      ]
    },
    {
      "cell_type": "code",
      "metadata": {
        "id": "i5BBO0VboQLA",
        "colab_type": "code",
        "colab": {
          "base_uri": "https://localhost:8080/",
          "height": 34
        },
        "outputId": "f6a833c0-d15a-49e8-f446-db22370d05c6"
      },
      "source": [
        "print(np.std(a))#standard deviation"
      ],
      "execution_count": 44,
      "outputs": [
        {
          "output_type": "stream",
          "text": [
            "2.2825424421026654\n"
          ],
          "name": "stdout"
        }
      ]
    },
    {
      "cell_type": "code",
      "metadata": {
        "id": "83PCpKtGoUjN",
        "colab_type": "code",
        "colab": {
          "base_uri": "https://localhost:8080/",
          "height": 168
        },
        "outputId": "07105426-548e-47c5-f8c8-ff4b81200c16"
      },
      "source": [
        "#addition ,multiplication,division,substraction\n",
        "b=np.array([(1,2,5,7,4),(5,7,8,6,8)])\n",
        "a=np.array([(1,2,5,7,4),(5,7,8,6,8)])\n",
        "print(a+b)\n",
        "print(a-b)\n",
        "print(a*b)\n",
        "print(a/b)\n"
      ],
      "execution_count": 50,
      "outputs": [
        {
          "output_type": "stream",
          "text": [
            "[[ 2  4 10 14  8]\n",
            " [10 14 16 12 16]]\n",
            "[[0 0 0 0 0]\n",
            " [0 0 0 0 0]]\n",
            "[[ 1  4 25 49 16]\n",
            " [25 49 64 36 64]]\n",
            "[[1. 1. 1. 1. 1.]\n",
            " [1. 1. 1. 1. 1.]]\n",
            "ERROR! Session/line number was not unique in database. History logging moved to new session 62\n"
          ],
          "name": "stdout"
        }
      ]
    },
    {
      "cell_type": "code",
      "metadata": {
        "id": "h6M4dNKoowPx",
        "colab_type": "code",
        "colab": {
          "base_uri": "https://localhost:8080/",
          "height": 101
        },
        "outputId": "47544b90-4dac-40ad-d631-79e18849148f"
      },
      "source": [
        "#concatinate array\n",
        "b=np.array([(1,2,5,7,4),(5,7,8,6,8)])\n",
        "a=np.array([(1,2,5,7,4),(5,7,8,6,8)])\n",
        "print(np.vstack((b,a))) #vstack=vertical concatinate"
      ],
      "execution_count": 51,
      "outputs": [
        {
          "output_type": "stream",
          "text": [
            "[[1 2 5 7 4]\n",
            " [5 7 8 6 8]\n",
            " [1 2 5 7 4]\n",
            " [5 7 8 6 8]]\n",
            "ERROR! Session/line number was not unique in database. History logging moved to new session 63\n"
          ],
          "name": "stdout"
        }
      ]
    },
    {
      "cell_type": "code",
      "metadata": {
        "id": "7TMYBzNupQeF",
        "colab_type": "code",
        "colab": {
          "base_uri": "https://localhost:8080/",
          "height": 50
        },
        "outputId": "a32e6fe7-22a0-43ca-dd72-c7271c2f2ffb"
      },
      "source": [
        "b=np.array([(1,2,5,7,4),(5,7,8,6,8)])\n",
        "a=np.array([(1,2,5,7,4),(5,7,8,6,8)])\n",
        "print(np.hstack((b,a))) #hstack=horizontal conatinate"
      ],
      "execution_count": 52,
      "outputs": [
        {
          "output_type": "stream",
          "text": [
            "[[1 2 5 7 4 1 2 5 7 4]\n",
            " [5 7 8 6 8 5 7 8 6 8]]\n"
          ],
          "name": "stdout"
        }
      ]
    },
    {
      "cell_type": "code",
      "metadata": {
        "id": "9b6l8aoBp-T0",
        "colab_type": "code",
        "colab": {
          "base_uri": "https://localhost:8080/",
          "height": 265
        },
        "outputId": "a73472f8-aba4-46dd-e772-d3b0e7ae4751"
      },
      "source": [
        "#numpy special function\n",
        "#sine function\n",
        "#cosine function\n",
        "import matplotlib.pyplot as plt\n",
        "x=np.arange(0,3*np.pi,0.1)\n",
        "y=np.sin(x)\n",
        "plt.plot(x,y)\n",
        "plt.show()"
      ],
      "execution_count": 53,
      "outputs": [
        {
          "output_type": "display_data",
          "data": {
            "image/png": "[encoded data removed]",
            "text/plain": [
              "<Figure size 432x288 with 1 Axes>"
            ]
          },
          "metadata": {
            "tags": []
          }
        }
      ]
    },
    {
      "cell_type": "code",
      "metadata": {
        "id": "dY2TMWnKqybf",
        "colab_type": "code",
        "colab": {
          "base_uri": "https://localhost:8080/",
          "height": 265
        },
        "outputId": "63ef43d5-613c-403c-9c8d-5258c4128ee9"
      },
      "source": [
        "import matplotlib.pyplot as plt\n",
        "x=np.arange(0,3*np.pi,0.1)\n",
        "y=np.cos(x)\n",
        "plt.plot(x,y)\n",
        "plt.show()"
      ],
      "execution_count": 54,
      "outputs": [
        {
          "output_type": "display_data",
          "data": {
            "image/png": "[encoded data removed]",
            "text/plain": [
              "<Figure size 432x288 with 1 Axes>"
            ]
          },
          "metadata": {
            "tags": []
          }
        }
      ]
    },
    {
      "cell_type": "code",
      "metadata": {
        "id": "uQxpPvAoq6ki",
        "colab_type": "code",
        "colab": {
          "base_uri": "https://localhost:8080/",
          "height": 265
        },
        "outputId": "8294ca56-2724-4e6d-981c-d85b7f0e9b15"
      },
      "source": [
        "import matplotlib.pyplot as plt\n",
        "x=np.arange(0,3*np.pi,0.1)\n",
        "y=np.tan(x)\n",
        "plt.plot(x,y)\n",
        "plt.show()"
      ],
      "execution_count": 55,
      "outputs": [
        {
          "output_type": "display_data",
          "data": {
            "image/png": "[encoded data removed]",
            "text/plain": [
              "<Figure size 432x288 with 1 Axes>"
            ]
          },
          "metadata": {
            "tags": []
          }
        }
      ]
    },
    {
      "cell_type": "code",
      "metadata": {
        "id": "uUKvJNf_rB3P",
        "colab_type": "code",
        "colab": {
          "base_uri": "https://localhost:8080/",
          "height": 34
        },
        "outputId": "6190f425-3f21-4490-98a1-f64865bc0ab7"
      },
      "source": [
        "#exponetial function\n",
        "#loarithmic function\n",
        "\n",
        "ar=np.array([1,2,3])\n",
        "print(np.exp(ar))"
      ],
      "execution_count": 56,
      "outputs": [
        {
          "output_type": "stream",
          "text": [
            "[ 2.71828183  7.3890561  20.08553692]\n"
          ],
          "name": "stdout"
        }
      ]
    },
    {
      "cell_type": "code",
      "metadata": {
        "id": "mnaWe6xzrTid",
        "colab_type": "code",
        "colab": {
          "base_uri": "https://localhost:8080/",
          "height": 34
        },
        "outputId": "e75e9393-2217-4977-8b92-ad40e6fdd96f"
      },
      "source": [
        "print(np.log(ar))"
      ],
      "execution_count": 57,
      "outputs": [
        {
          "output_type": "stream",
          "text": [
            "[0.         0.69314718 1.09861229]\n"
          ],
          "name": "stdout"
        }
      ]
    },
    {
      "cell_type": "code",
      "metadata": {
        "id": "cpIFQy1Ira4X",
        "colab_type": "code",
        "colab": {
          "base_uri": "https://localhost:8080/",
          "height": 34
        },
        "outputId": "d8c2bccd-5c03-49e6-e6a8-367399217996"
      },
      "source": [
        "print(np.log10(ar))"
      ],
      "execution_count": 58,
      "outputs": [
        {
          "output_type": "stream",
          "text": [
            "[0.         0.30103    0.47712125]\n"
          ],
          "name": "stdout"
        }
      ]
    },
    {
      "cell_type": "code",
      "metadata": {
        "id": "9bca60vtre1V",
        "colab_type": "code",
        "colab": {
          "base_uri": "https://localhost:8080/",
          "height": 67
        },
        "outputId": "9d8fad36-ab2c-4973-8daf-1aa23d808b3b"
      },
      "source": [
        "c=np.array([[(1,2,3),(4,5,6),(7,8,9)]])\n",
        "print(c)"
      ],
      "execution_count": 65,
      "outputs": [
        {
          "output_type": "stream",
          "text": [
            "[[[1 2 3]\n",
            "  [4 5 6]\n",
            "  [7 8 9]]]\n"
          ],
          "name": "stdout"
        }
      ]
    },
    {
      "cell_type": "code",
      "metadata": {
        "id": "AoIEVWIMtUJZ",
        "colab_type": "code",
        "colab": {
          "base_uri": "https://localhost:8080/",
          "height": 34
        },
        "outputId": "47af5edd-5c41-4232-f8a2-5eefebae4271"
      },
      "source": [
        "print(c.ndim)"
      ],
      "execution_count": 66,
      "outputs": [
        {
          "output_type": "stream",
          "text": [
            "3\n"
          ],
          "name": "stdout"
        }
      ]
    },
    {
      "cell_type": "code",
      "metadata": {
        "id": "NPxK7RCUtsSE",
        "colab_type": "code",
        "colab": {
          "base_uri": "https://localhost:8080/",
          "height": 34
        },
        "outputId": "ef147dea-cbcb-466b-9a9e-2abde56b72bd"
      },
      "source": [
        "a=np.array([1,2,3,5.2])\n",
        "print(a)"
      ],
      "execution_count": 70,
      "outputs": [
        {
          "output_type": "stream",
          "text": [
            "[1.  2.  3.  5.2]\n"
          ],
          "name": "stdout"
        }
      ]
    },
    {
      "cell_type": "code",
      "metadata": {
        "id": "8vCKMDI6va71",
        "colab_type": "code",
        "colab": {
          "base_uri": "https://localhost:8080/",
          "height": 34
        },
        "outputId": "1eba8730-43be-4193-eda0-d68008d1c5fd"
      },
      "source": [
        "a=np.array([1,2,3,5.2],int)\n",
        "print(a)\n"
      ],
      "execution_count": 71,
      "outputs": [
        {
          "output_type": "stream",
          "text": [
            "[1 2 3 5]\n"
          ],
          "name": "stdout"
        }
      ]
    },
    {
      "cell_type": "code",
      "metadata": {
        "id": "LRnK-uDAvxVz",
        "colab_type": "code",
        "colab": {
          "base_uri": "https://localhost:8080/",
          "height": 34
        },
        "outputId": "0987e9d4-2dce-4a81-b9b7-fe4771be7790"
      },
      "source": [
        "import numpy as np\n",
        "arr=np.arange(1,10,2)\n",
        "print(arr)"
      ],
      "execution_count": 75,
      "outputs": [
        {
          "output_type": "stream",
          "text": [
            "[1 3 5 7 9]\n"
          ],
          "name": "stdout"
        }
      ]
    },
    {
      "cell_type": "code",
      "metadata": {
        "id": "lnkh1bxOwlJF",
        "colab_type": "code",
        "colab": {
          "base_uri": "https://localhost:8080/",
          "height": 50
        },
        "outputId": "ede339fb-4847-43c2-c448-d20166d365cd"
      },
      "source": [
        "arr=np.logspace(1,12,5) #divided into base of log\n",
        "print(arr)"
      ],
      "execution_count": 76,
      "outputs": [
        {
          "output_type": "stream",
          "text": [
            "[1.00000000e+01 5.62341325e+03 3.16227766e+06 1.77827941e+09\n",
            " 1.00000000e+12]\n"
          ],
          "name": "stdout"
        }
      ]
    },
    {
      "cell_type": "code",
      "metadata": {
        "id": "blS3Cp4hxf-9",
        "colab_type": "code",
        "colab": {
          "base_uri": "https://localhost:8080/",
          "height": 34
        },
        "outputId": "0513aec6-5446-426f-bdda-5086f942dab1"
      },
      "source": [
        "#copying array \n",
        "arr=np.array([1,2,3,4,5])\n",
        "arr=arr+5\n",
        "arr"
      ],
      "execution_count": 78,
      "outputs": [
        {
          "output_type": "execute_result",
          "data": {
            "text/plain": [
              "array([ 6,  7,  8,  9, 10])"
            ]
          },
          "metadata": {
            "tags": []
          },
          "execution_count": 78
        }
      ]
    },
    {
      "cell_type": "code",
      "metadata": {
        "id": "s5KAoRIWxuxz",
        "colab_type": "code",
        "colab": {
          "base_uri": "https://localhost:8080/",
          "height": 50
        },
        "outputId": "03bda188-2805-44c3-8c61-9a276c17f911"
      },
      "source": [
        "arr1=np.array([1,2,3,4,5])\n",
        "arr2=arr1\n",
        "print(arr1)\n",
        "print(arr2)\n"
      ],
      "execution_count": 79,
      "outputs": [
        {
          "output_type": "stream",
          "text": [
            "[1 2 3 4 5]\n",
            "[1 2 3 4 5]\n"
          ],
          "name": "stdout"
        }
      ]
    },
    {
      "cell_type": "code",
      "metadata": {
        "id": "6TxNMkDo0vov",
        "colab_type": "code",
        "colab": {
          "base_uri": "https://localhost:8080/",
          "height": 50
        },
        "outputId": "49ace5b6-bd79-4f2f-f537-4c56d43700b0"
      },
      "source": [
        "print(id(arr1))\n",
        "print(id(arr2))\n",
        "#same address that means not copy a array"
      ],
      "execution_count": 81,
      "outputs": [
        {
          "output_type": "stream",
          "text": [
            "139714644527104\n",
            "139714644527104\n"
          ],
          "name": "stdout"
        }
      ]
    },
    {
      "cell_type": "code",
      "metadata": {
        "id": "N5MJILnw03lh",
        "colab_type": "code",
        "colab": {
          "base_uri": "https://localhost:8080/",
          "height": 50
        },
        "outputId": "63b72f04-4497-4b2f-dd7d-3026bdddc4f9"
      },
      "source": [
        "arr1=np.array([1,2,3,4,5])\n",
        "arr2=arr1.view() #view is a function which help you create a new array at diffrent location\n",
        "print(id(arr1))\n",
        "print(id(arr2))\n",
        "#see diffrent location"
      ],
      "execution_count": 82,
      "outputs": [
        {
          "output_type": "stream",
          "text": [
            "139714644467024\n",
            "139714644140880\n"
          ],
          "name": "stdout"
        }
      ]
    },
    {
      "cell_type": "code",
      "metadata": {
        "id": "6ACQkj9T1aDB",
        "colab_type": "code",
        "colab": {
          "base_uri": "https://localhost:8080/",
          "height": 84
        },
        "outputId": "c1c202e3-c7a6-40ba-e7d2-db78ddfb9d1a"
      },
      "source": [
        "#there are two types of copy 1.shallow copy, 2. deep copy\n",
        "#1.shallow copy=each array link together\n",
        "arr1=np.array([1,2,3,4,5])\n",
        "arr2=arr1.view()\n",
        "arr1[1]=7\n",
        "print(arr1)\n",
        "print(arr2)\n",
        "print(id(arr1))\n",
        "print(id(arr2))\n",
        "# i only change arr1 array value but arr2 value willbe chaged that link togther it is call shallow copy "
      ],
      "execution_count": 85,
      "outputs": [
        {
          "output_type": "stream",
          "text": [
            "[1 7 3 4 5]\n",
            "[1 7 3 4 5]\n",
            "139714644086992\n",
            "139714644087152\n"
          ],
          "name": "stdout"
        }
      ]
    },
    {
      "cell_type": "code",
      "metadata": {
        "id": "rx7nxJtu2T3f",
        "colab_type": "code",
        "colab": {
          "base_uri": "https://localhost:8080/",
          "height": 84
        },
        "outputId": "b009d667-1917-43f9-a01a-11983b606c86"
      },
      "source": [
        "#2.deep copy\n",
        "arr1=np.array([1,2,3,4,5])\n",
        "arr2=arr1.copy()#--> copy function\n",
        "arr1[1]=7\n",
        "print(arr1)\n",
        "print(arr2)\n",
        "print(id(arr1)) #id fun give a address\n",
        "print(id(arr2))"
      ],
      "execution_count": 84,
      "outputs": [
        {
          "output_type": "stream",
          "text": [
            "[1 7 3 4 5]\n",
            "[1 2 3 4 5]\n",
            "139714644087152\n",
            "139714644086832\n"
          ],
          "name": "stdout"
        }
      ]
    },
    {
      "cell_type": "code",
      "metadata": {
        "id": "4t5ZsvxR22KB",
        "colab_type": "code",
        "colab": {
          "base_uri": "https://localhost:8080/",
          "height": 34
        },
        "outputId": "902ad6dd-3df7-42a0-e0a7-1ea024e3cd2e"
      },
      "source": [
        "#convert two dim array to one dim. array\n",
        "arr1=np.array([(1,2,3,4),(5,6,7,8)])\n",
        "arr2=arr1.flatten()#flatten fun flat the array convert into one dime. array\n",
        "print(arr2)"
      ],
      "execution_count": 88,
      "outputs": [
        {
          "output_type": "stream",
          "text": [
            "[1 2 3 4 5 6 7 8]\n"
          ],
          "name": "stdout"
        }
      ]
    },
    {
      "cell_type": "code",
      "metadata": {
        "id": "D4G2Xr794VOL",
        "colab_type": "code",
        "colab": {
          "base_uri": "https://localhost:8080/",
          "height": 67
        },
        "outputId": "3902efe5-f76a-403a-f294-b88e6cd8b849"
      },
      "source": [
        "# create a matrix\n",
        "m1=np.matrix('1 2 3; 6 4 5; 1 6 7')\n",
        "m2=np.matrix('1 2 3; 6 4 5; 1 6 7')\n",
        "m3=m1+m2\n",
        "print(m3)"
      ],
      "execution_count": 94,
      "outputs": [
        {
          "output_type": "stream",
          "text": [
            "[[ 2  4  6]\n",
            " [12  8 10]\n",
            " [ 2 12 14]]\n"
          ],
          "name": "stdout"
        }
      ]
    },
    {
      "cell_type": "code",
      "metadata": {
        "id": "zIq9cdoR5sgX",
        "colab_type": "code",
        "colab": {
          "base_uri": "https://localhost:8080/",
          "height": 67
        },
        "outputId": "e1566d0f-da93-47e7-86ba-c7154d656a70"
      },
      "source": [
        "#multiplication of matrix\n",
        "m1=np.matrix('1 2 3; 6 4 5; 1 6 7')\n",
        "m2=np.matrix('1 2 3; 6 4 5; 1 6 7')\n",
        "m3=m1*m2\n",
        "print(m3)"
      ],
      "execution_count": 95,
      "outputs": [
        {
          "output_type": "stream",
          "text": [
            "[[16 28 34]\n",
            " [35 58 73]\n",
            " [44 68 82]]\n"
          ],
          "name": "stdout"
        }
      ]
    },
    {
      "cell_type": "code",
      "metadata": {
        "id": "JJVJvGhP719h",
        "colab_type": "code",
        "colab": {
          "base_uri": "https://localhost:8080/",
          "height": 34
        },
        "outputId": "66f99d4a-8227-4304-96fe-6525290bb426"
      },
      "source": [
        "m1=np.matrix('1 2 3; 6 4 5; 1 6 7')\n",
        "print(m1.diagonal())"
      ],
      "execution_count": 97,
      "outputs": [
        {
          "output_type": "stream",
          "text": [
            "[[1 4 7]]\n"
          ],
          "name": "stdout"
        }
      ]
    },
    {
      "cell_type": "code",
      "metadata": {
        "id": "XmKTTHET78YC",
        "colab_type": "code",
        "colab": {
          "base_uri": "https://localhost:8080/",
          "height": 67
        },
        "outputId": "0447fd54-592a-4cde-e0b8-13705e4d0b7c"
      },
      "source": [
        "m1=np.matrix('1 2 3; 6 4 5; 1 6 7')\n",
        "m2=np.matrix('1 2 3; 6 4 5; 1 6 7')\n",
        "m3=m1-m2\n",
        "print(m3)"
      ],
      "execution_count": 98,
      "outputs": [
        {
          "output_type": "stream",
          "text": [
            "[[0 0 0]\n",
            " [0 0 0]\n",
            " [0 0 0]]\n"
          ],
          "name": "stdout"
        }
      ]
    },
    {
      "cell_type": "code",
      "metadata": {
        "id": "DXNDv7jk8Gl3",
        "colab_type": "code",
        "colab": {
          "base_uri": "https://localhost:8080/",
          "height": 67
        },
        "outputId": "71ae70fe-5065-4f52-a427-9651669cfe8b"
      },
      "source": [
        "m1=np.matrix('1 2 3; 6 4 5; 1 6 7')\n",
        "m2=np.matrix('1 2 3; 6 4 5; 1 6 7')\n",
        "m3=m1/m2\n",
        "print(m3)"
      ],
      "execution_count": 99,
      "outputs": [
        {
          "output_type": "stream",
          "text": [
            "[[1. 1. 1.]\n",
            " [1. 1. 1.]\n",
            " [1. 1. 1.]]\n"
          ],
          "name": "stdout"
        }
      ]
    },
    {
      "cell_type": "code",
      "metadata": {
        "id": "kufghdvF8Inv",
        "colab_type": "code",
        "colab": {
          "base_uri": "https://localhost:8080/",
          "height": 34
        },
        "outputId": "e4c753d4-9428-48a7-b7c1-2144f7afd9f9"
      },
      "source": [
        "m1=np.matrix('1 2 3; 6 4 5; 1 6 7')\n",
        "print(m1.sum())"
      ],
      "execution_count": 100,
      "outputs": [
        {
          "output_type": "stream",
          "text": [
            "35\n"
          ],
          "name": "stdout"
        }
      ]
    },
    {
      "cell_type": "code",
      "metadata": {
        "id": "f4Ft0Ps78OiE",
        "colab_type": "code",
        "colab": {
          "base_uri": "https://localhost:8080/",
          "height": 67
        },
        "outputId": "293ce97b-bd2a-459d-b2bf-fc642a3e8101"
      },
      "source": [
        "import numpy as np\n",
        "arr=np.array([(1,2,3),(4,5,6)])\n",
        "print(np.transpose(arr))\n"
      ],
      "execution_count": 105,
      "outputs": [
        {
          "output_type": "stream",
          "text": [
            "[[1 4]\n",
            " [2 5]\n",
            " [3 6]]\n"
          ],
          "name": "stdout"
        }
      ]
    },
    {
      "cell_type": "code",
      "metadata": {
        "id": "vD1Fn1bBSrxu",
        "colab_type": "code",
        "colab": {}
      },
      "source": [
        ""
      ],
      "execution_count": 0,
      "outputs": []
    }
  ]
}